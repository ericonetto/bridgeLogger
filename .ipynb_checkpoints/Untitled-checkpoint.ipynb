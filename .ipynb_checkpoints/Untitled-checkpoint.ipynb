{
 "cells": [
  {
   "cell_type": "code",
   "execution_count": 7,
   "metadata": {},
   "outputs": [
    {
     "name": "stdout",
     "output_type": "stream",
     "text": [
      "b'gg\\x01\\x00\\x18\\x00@\\x03RT@t$v\\x86\\x01\\xf4\\x02\\x06\\x12\\x07\\x00\\x01\\x042\\x00x\\x80\\xe6gg\\x01\\x00\\x18\\x00P\\x03RT@t$v\\x86\\x01\\xf4\\x02\\x06\\x12\\x07\\x00\\x01\\x042\\x00x\\x80\\xe6gg\\x01\\x00\\x18\\x00e\\x03RT@t$v\\x86\\x01\\xf4\\x02\\x06\\x12\\x07\\x00\\x01\\x042\\x00x\\x80\\xe6gg\\x01\\x00\\x18\\x00i\\x03RT@t$v\\x86\\x01\\xf4\\x02\\x06\\x12\\x07\\x00\\x01\\x042\\x00x\\x80\\xe6gg\\x01\\x00\\x18\\x00y\\x03RT@t$v\\x86\\x01\\xf4\\x02\\x06\\x12\\x07\\x00\\x01\\x042\\x00x\\x80\\xe6'\n"
     ]
    },
    {
     "ename": "TypeError",
     "evalue": "ord() expected string of length 1, but int found",
     "output_type": "error",
     "traceback": [
      "\u001b[0;31m---------------------------------------------------------------------------\u001b[0m",
      "\u001b[0;31mTypeError\u001b[0m                                 Traceback (most recent call last)",
      "\u001b[0;32m<ipython-input-7-0d0a7c313cc4>\u001b[0m in \u001b[0;36m<module>\u001b[0;34m()\u001b[0m\n\u001b[1;32m      7\u001b[0m     \u001b[0mbinary_file\u001b[0m\u001b[0;34m.\u001b[0m\u001b[0mseek\u001b[0m\u001b[0;34m(\u001b[0m\u001b[0;36m0\u001b[0m\u001b[0;34m)\u001b[0m  \u001b[0;31m# Go to beginning\u001b[0m\u001b[0;34m\u001b[0m\u001b[0m\n\u001b[1;32m      8\u001b[0m     \u001b[0mcouple_bytes\u001b[0m \u001b[0;34m=\u001b[0m \u001b[0mbinary_file\u001b[0m\u001b[0;34m.\u001b[0m\u001b[0mread\u001b[0m\u001b[0;34m(\u001b[0m\u001b[0;36m1\u001b[0m\u001b[0;34m)\u001b[0m\u001b[0;34m\u001b[0m\u001b[0m\n\u001b[0;32m----> 9\u001b[0;31m     \u001b[0mprint\u001b[0m\u001b[0;34m(\u001b[0m\u001b[0mByteToHex\u001b[0m\u001b[0;34m(\u001b[0m\u001b[0mcouple_bytes\u001b[0m\u001b[0;34m)\u001b[0m\u001b[0;34m)\u001b[0m\u001b[0;34m\u001b[0m\u001b[0m\n\u001b[0m",
      "\u001b[0;32m<ipython-input-6-52b08693a0fa>\u001b[0m in \u001b[0;36mByteToHex\u001b[0;34m(byteStr)\u001b[0m\n\u001b[1;32m     13\u001b[0m     \u001b[0;31m#    return ''.join( hex ).strip()\u001b[0m\u001b[0;34m\u001b[0m\u001b[0;34m\u001b[0m\u001b[0m\n\u001b[1;32m     14\u001b[0m \u001b[0;34m\u001b[0m\u001b[0m\n\u001b[0;32m---> 15\u001b[0;31m     \u001b[0;32mreturn\u001b[0m \u001b[0;34m''\u001b[0m\u001b[0;34m.\u001b[0m\u001b[0mjoin\u001b[0m\u001b[0;34m(\u001b[0m \u001b[0;34m[\u001b[0m \u001b[0;34m\"%02X \"\u001b[0m \u001b[0;34m%\u001b[0m \u001b[0mord\u001b[0m\u001b[0;34m(\u001b[0m \u001b[0mx\u001b[0m \u001b[0;34m)\u001b[0m \u001b[0;32mfor\u001b[0m \u001b[0mx\u001b[0m \u001b[0;32min\u001b[0m \u001b[0mbyteStr\u001b[0m \u001b[0;34m]\u001b[0m \u001b[0;34m)\u001b[0m\u001b[0;34m.\u001b[0m\u001b[0mstrip\u001b[0m\u001b[0;34m(\u001b[0m\u001b[0;34m)\u001b[0m\u001b[0;34m\u001b[0m\u001b[0m\n\u001b[0m",
      "\u001b[0;32m<ipython-input-6-52b08693a0fa>\u001b[0m in \u001b[0;36m<listcomp>\u001b[0;34m(.0)\u001b[0m\n\u001b[1;32m     13\u001b[0m     \u001b[0;31m#    return ''.join( hex ).strip()\u001b[0m\u001b[0;34m\u001b[0m\u001b[0;34m\u001b[0m\u001b[0m\n\u001b[1;32m     14\u001b[0m \u001b[0;34m\u001b[0m\u001b[0m\n\u001b[0;32m---> 15\u001b[0;31m     \u001b[0;32mreturn\u001b[0m \u001b[0;34m''\u001b[0m\u001b[0;34m.\u001b[0m\u001b[0mjoin\u001b[0m\u001b[0;34m(\u001b[0m \u001b[0;34m[\u001b[0m \u001b[0;34m\"%02X \"\u001b[0m \u001b[0;34m%\u001b[0m \u001b[0mord\u001b[0m\u001b[0;34m(\u001b[0m \u001b[0mx\u001b[0m \u001b[0;34m)\u001b[0m \u001b[0;32mfor\u001b[0m \u001b[0mx\u001b[0m \u001b[0;32min\u001b[0m \u001b[0mbyteStr\u001b[0m \u001b[0;34m]\u001b[0m \u001b[0;34m)\u001b[0m\u001b[0;34m.\u001b[0m\u001b[0mstrip\u001b[0m\u001b[0;34m(\u001b[0m\u001b[0;34m)\u001b[0m\u001b[0;34m\u001b[0m\u001b[0m\n\u001b[0m",
      "\u001b[0;31mTypeError\u001b[0m: ord() expected string of length 1, but int found"
     ]
    }
   ],
   "source": [
    "with open(\"sample-gps\", \"rb\") as binary_file:\n",
    "    # Read the whole file at once\n",
    "    data = binary_file.read()\n",
    "    print(data)\n",
    "\n",
    "    # Seek position and read N bytes\n",
    "    binary_file.seek(0)  # Go to beginning\n",
    "    couple_bytes = binary_file.read(1)\n",
    "    print(ByteToHex(couple_bytes))\n",
    "    \n",
    "    \n",
    "    hexStr=\"\"\n",
    "    for x in range(0, len(data)):\n",
    "    hexStr=hexStr+hex(ord(str[x]))+\"\\n\"\n",
    "    print hexStr"
   ]
  },
  {
   "cell_type": "code",
   "execution_count": null,
   "metadata": {},
   "outputs": [],
   "source": []
  },
  {
   "cell_type": "code",
   "execution_count": null,
   "metadata": {},
   "outputs": [],
   "source": []
  }
 ],
 "metadata": {
  "kernelspec": {
   "display_name": "Python 3",
   "language": "python",
   "name": "python3"
  },
  "language_info": {
   "codemirror_mode": {
    "name": "ipython",
    "version": 3
   },
   "file_extension": ".py",
   "mimetype": "text/x-python",
   "name": "python",
   "nbconvert_exporter": "python",
   "pygments_lexer": "ipython3",
   "version": "3.6.4"
  }
 },
 "nbformat": 4,
 "nbformat_minor": 2
}
