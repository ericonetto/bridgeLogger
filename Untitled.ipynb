{
 "cells": [
  {
   "cell_type": "code",
   "execution_count": 23,
   "metadata": {},
   "outputs": [],
   "source": [
    "import string\n",
    "#with open(\"sample-gps\", \"rb\") as binary_file:\n",
    "\n",
    "import binascii\n",
    "\n",
    "# Open in binary mode (so you don't read two byte line endings on Windows as one byte)\n",
    "# and use with statement (always do this to avoid leaked file descriptors, unflushed files)\n",
    "with open(\"sample-gps\", \"rb\") as f:\n",
    "    binary=f.read()\n",
    "    # Slurp the whole file and efficiently convert it to hex all at once\n",
    "    hexdata = binascii.hexlify(binary)"
   ]
  },
  {
   "cell_type": "code",
   "execution_count": 21,
   "metadata": {},
   "outputs": [
    {
     "name": "stdout",
     "output_type": "stream",
     "text": [
      "b'67670100180040035254407424768601f40206120700010432007880e667670100180050035254407424768601f40206120700010432007880e667670100180065035254407424768601f40206120700010432007880e667670100180069035254407424768601f40206120700010432007880e667670100180079035254407424768601f40206120700010432007880e6'\n"
     ]
    }
   ],
   "source": [
    "print(hexdata)"
   ]
  },
  {
   "cell_type": "code",
   "execution_count": 27,
   "metadata": {},
   "outputs": [
    {
     "name": "stdout",
     "output_type": "stream",
     "text": [
      "b'6767'\n"
     ]
    }
   ],
   "source": [
    "print(binascii.hexlify(binary[0:2]))"
   ]
  },
  {
   "cell_type": "code",
   "execution_count": null,
   "metadata": {},
   "outputs": [],
   "source": []
  }
 ],
 "metadata": {
  "kernelspec": {
   "display_name": "Python 3",
   "language": "python",
   "name": "python3"
  },
  "language_info": {
   "codemirror_mode": {
    "name": "ipython",
    "version": 3
   },
   "file_extension": ".py",
   "mimetype": "text/x-python",
   "name": "python",
   "nbconvert_exporter": "python",
   "pygments_lexer": "ipython3",
   "version": "3.6.4"
  }
 },
 "nbformat": 4,
 "nbformat_minor": 2
}
